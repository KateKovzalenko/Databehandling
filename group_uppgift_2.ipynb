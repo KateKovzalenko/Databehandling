{
 "cells": [
  {
   "cell_type": "markdown",
   "id": "c1b8d622",
   "metadata": {},
   "source": [
    "# Gruppuppgift#2"
   ]
  },
  {
   "cell_type": "code",
   "execution_count": null,
   "id": "47cea112",
   "metadata": {},
   "outputs": [],
   "source": [
    "# group memmbers"
   ]
  },
  {
   "cell_type": "markdown",
   "id": "c035bc21",
   "metadata": {},
   "source": [
    "## Part 1\n",
    "* A:Import the `pokemon.csv` dataset\n",
    "* B:Make the Name column the index (do it in place on the original DataFrame!)\n",
    "\n",
    "\n",
    "\n"
   ]
  },
  {
   "cell_type": "code",
   "execution_count": null,
   "id": "48ca4df1",
   "metadata": {},
   "outputs": [],
   "source": []
  },
  {
   "cell_type": "markdown",
   "id": "9f7d9aef",
   "metadata": {},
   "source": [
    "## Part 2\n",
    "* A:Sort the pokemon by the Attack column, from highest to lowest\n",
    "* B:Sort the pokemon by the Num column, from lowest to highest, in place.\n",
    "* C:Sort the pokemon by the Total column AND the Attack column (in that order!) from highest to lowest\n",
    "* D:Sort the pokemon by their index, from lowest to highest, in place (From A-Z)"
   ]
  },
  {
   "cell_type": "code",
   "execution_count": null,
   "id": "27154af1",
   "metadata": {},
   "outputs": [],
   "source": []
  },
  {
   "cell_type": "markdown",
   "id": "f5dcca7f",
   "metadata": {},
   "source": [
    "## Part 3\n",
    "\n",
    "* A:Find the average Speed of the 10 pokemon with the highest Speed.\n",
    "* B:Of the top 20 pokemon with the highest Attack values, what is the most common value for \"Type 1\"? "
   ]
  },
  {
   "cell_type": "code",
   "execution_count": null,
   "id": "0bc65b99",
   "metadata": {},
   "outputs": [],
   "source": []
  },
  {
   "cell_type": "markdown",
   "id": "1a9f77ea",
   "metadata": {},
   "source": [
    "## Part 4\n",
    "* A:Retrieve the row with the index label of \"Diglett\"\n",
    "* B:Retrieve the rows for the two fox-like Pokemon: Eevee and Vulpix\n",
    "* C:Make sure your DataFrame is sorted by index (A-Z).  Retrieve the rows from Charizard to Charmeleon.  You should get three rows back.\n",
    "* D:Retrieve the 30th, 40th, and 50th rows by position."
   ]
  },
  {
   "cell_type": "code",
   "execution_count": null,
   "id": "8f0810a4",
   "metadata": {},
   "outputs": [],
   "source": []
  },
  {
   "cell_type": "markdown",
   "id": "d92b0186",
   "metadata": {},
   "source": [
    "## Part 5\n",
    "* A:Retrieve the rows of the fish-like Pokemon.  Use this list to make it easier:\n",
    "```py\n",
    "fish_pokemon = [\"Magikarp\", \"Goldeen\",\"Horsea\", \"Seaking\", \"Seadra\",\"Gyarados\"]\n",
    "```"
   ]
  },
  {
   "cell_type": "code",
   "execution_count": null,
   "id": "12139e41",
   "metadata": {},
   "outputs": [],
   "source": []
  },
  {
   "cell_type": "code",
   "execution_count": null,
   "id": "ef1d9c3d",
   "metadata": {},
   "outputs": [],
   "source": []
  }
 ],
 "metadata": {
  "kernelspec": {
   "display_name": "Python 3.10.8 64-bit",
   "language": "python",
   "name": "python3"
  },
  "language_info": {
   "codemirror_mode": {
    "name": "ipython",
    "version": 3
   },
   "file_extension": ".py",
   "mimetype": "text/x-python",
   "name": "python",
   "nbconvert_exporter": "python",
   "pygments_lexer": "ipython3",
   "version": "3.10.8"
  },
  "vscode": {
   "interpreter": {
    "hash": "fa18ba460238f5ed94a356a898e29332890f11131da76a62d423e26048603bf4"
   }
  }
 },
 "nbformat": 4,
 "nbformat_minor": 5
}
